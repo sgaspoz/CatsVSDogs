{
 "cells": [
  {
   "cell_type": "code",
   "execution_count": 57,
   "metadata": {
    "collapsed": false
   },
   "outputs": [
    {
     "name": "stdout",
     "output_type": "stream",
     "text": [
      "264\n",
      "100\n",
      "311\n",
      "100\n",
      "323\n",
      "100\n",
      "128\n",
      "100\n",
      "388\n",
      "100\n",
      "279\n",
      "100\n",
      "548\n",
      "100\n",
      "164\n",
      "100\n",
      "282\n",
      "100\n",
      "519\n",
      "100\n"
     ]
    }
   ],
   "source": [
    "import cv2\n",
    "import csv\n",
    "import numpy as np\n",
    "import matplotlib.pyplot as plt\n",
    "from sklearn import cross_validation\n",
    "from sklearn.metrics import accuracy_score\n",
    "from sklearn.svm import LinearSVC\n",
    "from sklearn.ensemble import RandomForestClassifier\n",
    "\n",
    "import time\n",
    "\n",
    "data = []\n",
    "labels = [1, 1, 0, 0, 0, 1, 1, 0, 1, 1]\n",
    "\n",
    "sift = cv2.xfeatures2d.SIFT_create()\n",
    "\n",
    "for i in range(10) :\n",
    "    imzero = cv2.imread(\"C:/Users/yanng/Documents/Vision/Projet/X_train/\" + str(i) + \".jpg\", cv2.IMREAD_GRAYSCALE)\n",
    "    imzero = cv2.resize(imzero, (240, 240))\n",
    "    feat, desc = sift.detectAndCompute(imzero, None)\n",
    "    print(len(desc))\n",
    "    sub_desc = desc[:100]\n",
    "    print(len(sub_desc))\n",
    "    data.append(sub_desc.flatten())\n",
    "\n",
    "Xtrain,Xval,ytrain,yval = cross_validation.train_test_split(data,labels,test_size=0.1)\n",
    "#Xtrain = np.array(Xtrain)\n",
    "#ytrain = np.array(ytrain)"
   ]
  },
  {
   "cell_type": "code",
   "execution_count": 55,
   "metadata": {
    "collapsed": false
   },
   "outputs": [
    {
     "name": "stdout",
     "output_type": "stream",
     "text": [
      "SVM accuracy:  100.0\n"
     ]
    }
   ],
   "source": [
    "# Create an sklearn.svm.LinearSVC object\n",
    "svm = LinearSVC()\n",
    "# Train using the training set\n",
    "svm.fit(Xtrain, ytrain)\n",
    "# Predict the labels for the validation set\n",
    "ypred = svm.predict(Xval)\n",
    "# Compute the prediction accuracy (%) using the accuracy_score module of the sklearn.metrics\n",
    "accuracy = accuracy_score(yval,ypred) * 100\n",
    "print(\"SVM accuracy: \", accuracy) "
   ]
  },
  {
   "cell_type": "code",
   "execution_count": 54,
   "metadata": {
    "collapsed": false
   },
   "outputs": [
    {
     "name": "stdout",
     "output_type": "stream",
     "text": [
      "random forest accuracy:  0.0\n"
     ]
    }
   ],
   "source": [
    "# Create an sklearn.ensemble.RandomForestClassifier object\n",
    "randomforest = RandomForestClassifier(n_estimators=10, n_jobs=-1)\n",
    "# Train using the training set\n",
    "randomforest.fit(Xtrain, ytrain)\n",
    "# Predict the labels for the validation set\n",
    "ypred = randomforest.predict(Xval)\n",
    "# Compute the prediction accuracy (%) using the accuracy_score module of the sklearn.metrics\n",
    "accuracy = accuracy_score(yval,ypred) * 100\n",
    "print(\"random forest accuracy: \", accuracy) "
   ]
  },
  {
   "cell_type": "code",
   "execution_count": 32,
   "metadata": {
    "collapsed": false
   },
   "outputs": [
    {
     "name": "stdout",
     "output_type": "stream",
     "text": [
      "[    0     1     2 ..., 57597 57598 57599]\n",
      "[    0     1     2 ..., 57597 57598 57599]\n"
     ]
    },
    {
     "data": {
      "text/plain": [
       "array([    0,     1,     2, ..., 57597, 57598, 57599])"
      ]
     },
     "execution_count": 32,
     "metadata": {},
     "output_type": "execute_result"
    }
   ],
   "source": [
    "test = np.arange(240*240)\n",
    "print(test)\n",
    "test.reshape((240, 240))\n",
    "print(test)\n",
    "test.reshape(-1)"
   ]
  },
  {
   "cell_type": "code",
   "execution_count": null,
   "metadata": {
    "collapsed": true
   },
   "outputs": [],
   "source": []
  }
 ],
 "metadata": {
  "anaconda-cloud": {},
  "kernelspec": {
   "display_name": "Python [default]",
   "language": "python",
   "name": "python3"
  },
  "language_info": {
   "codemirror_mode": {
    "name": "ipython",
    "version": 3
   },
   "file_extension": ".py",
   "mimetype": "text/x-python",
   "name": "python",
   "nbconvert_exporter": "python",
   "pygments_lexer": "ipython3",
   "version": "3.5.2"
  }
 },
 "nbformat": 4,
 "nbformat_minor": 1
}
