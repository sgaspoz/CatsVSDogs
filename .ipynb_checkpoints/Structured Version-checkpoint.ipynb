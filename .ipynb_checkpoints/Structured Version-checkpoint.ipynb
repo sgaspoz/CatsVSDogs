{
 "cells": [
  {
   "cell_type": "code",
   "execution_count": 7,
   "metadata": {
    "collapsed": true
   },
   "outputs": [],
   "source": [
    "import cv2\n",
    "import csv\n",
    "import time\n",
    "import numpy as np\n",
    "import matplotlib.pyplot as plt\n",
    "from sklearn import cross_validation\n",
    "from sklearn.metrics import accuracy_score\n",
    "from sklearn.svm import LinearSVC\n",
    "from sklearn.ensemble import RandomForestClassifier\n",
    "\n",
    "# This class allows for operations on the dataset\n",
    "class csvToCv2: \n",
    "    # Inits the data, allows to only consider a subset of the data by specifying a positive value for test_var\n",
    "    def __init__(self, filepath, test_var = -1): \n",
    "        data = [] \n",
    "        labels = []\n",
    "        \n",
    "        self.descs = []\n",
    "        self.sift = cv2.xfeatures2d.SIFT_create()\n",
    "        \n",
    "        with open(filepath+'Y_train.csv', 'r') as csv_file:\n",
    "            # read and discard the csv header row (first line)\n",
    "            next(csv_file)\n",
    "            # Read the rest, one line at a time\n",
    "            for line in csv.reader(csv_file):\n",
    "                im = cv2.imread(filepath+'X_train/'+str(line[0]))\n",
    "                data.append(im)\n",
    "                labels.append(int(line[1]))\n",
    "                \n",
    "        if(test_var < 0) :\n",
    "            self.data = data\n",
    "            self.labels = labels\n",
    "        else:    \n",
    "            self.data = data[:test_var]\n",
    "            self.labels = labels[:test_var]\n",
    "    \n",
    "    # Resize all images and proceeds the foreground/background segmentation\n",
    "    def resizeAndSegment(self):\n",
    "        formatted_data = []\n",
    "        for img in self.data :\n",
    "            res_img = cv2.resize(img, (240,240))\n",
    "\n",
    "            rect = (4,4,res_img.shape[0]-8,res_img.shape[1]-8)\n",
    "            bgdModel = np.zeros((1,65),np.float64)\n",
    "            fgdModel = np.zeros((1,65),np.float64)\n",
    "            mask, bgdModel, fgdModel = cv2.grabCut(res_img,None,rect,bgdModel,fgdModel,5,cv2.GC_INIT_WITH_RECT)\n",
    "\n",
    "            # If a pixel is BGD or probably BGD, set it to 0, otherwise, set it to 1\n",
    "            mask = np.where((mask==cv2.GC_BGD)|(mask==cv2.GC_PR_BGD),0,1).astype('uint8')\n",
    "            # newaxis is used to increase the dimension of the existing array by one more dimension\n",
    "            img_disp = res_img * mask[:,:,np.newaxis]\n",
    "\n",
    "            mean = np.mean(img_disp)\n",
    "            if(mean < 5) : \n",
    "                formatted_data.append(res_img)\n",
    "            else: \n",
    "                formatted_data.append(img_disp)\n",
    "                \n",
    "        self.data = formatted_data\n",
    "                \n",
    "    \n",
    "    # We need all the descriptors to have the same length. This function allows to enforce it by padding the small ones\n",
    "    def zero_pad(self, array, thresh): \n",
    "        high, width = array.shape\n",
    "        padding = np.zeros((thresh, width))\n",
    "        padding[0:high] = array\n",
    "        \n",
    "        return padding\n",
    "    \n",
    "    # Computes the sift features for the images in self.data and stores the 70 best descriptors in self.descs\n",
    "    def computeFeatures(self) :\n",
    "        desc = []\n",
    "        k = 0\n",
    "        for pic in self.data: \n",
    "            if(k % 20 == 0):\n",
    "                print(\"Doing stuff for picture : \", k)\n",
    "            k += 1\n",
    "            feature, descriptor = self.sift.detectAndCompute(pic, None)\n",
    "            inter_desc = []\n",
    "            thresh = 70\n",
    "            if(len(descriptor) < thresh):\n",
    "                inter_desc = self.zero_pad(descriptor, thresh)\n",
    "            else:\n",
    "                zi = zip(feature, descriptor) # We want to be able to sort the descriptors based on the keypoints attribute, so we zip them\n",
    "                bestFeats = sorted(zi, key=lambda tup : tup[0].response, reverse = True)[:70]\n",
    "                for pt in bestFeats:\n",
    "                    inter_desc.append(pt[1])\n",
    "                inter_desc = np.array(inter_desc)\n",
    "                \n",
    "            desc.append(inter_desc.flatten())\n",
    "            \n",
    "        self.descs = desc\n",
    "        \n",
    "       \n",
    "    def splitData(self):\n",
    "        # Spliting the training data into training and validation sets\n",
    "        # We'll use the cross_validation from the sklearn module\n",
    "        Xtrain,Xval,ytrain,yval = cross_validation.train_test_split(self.descs,self.labels,test_size=0.1)\n",
    "        # make the data public\n",
    "        self.Xtrain = Xtrain\n",
    "        self.ytrain = ytrain\n",
    "        self.Ntrain = len(Xtrain)\n",
    "        self.Xval = Xval\n",
    "        self.yval = yval\n",
    "        self.Nval = len(Xval)"
   ]
  },
  {
   "cell_type": "code",
   "execution_count": 9,
   "metadata": {
    "collapsed": false
   },
   "outputs": [
    {
     "name": "stdout",
     "output_type": "stream",
     "text": [
      "init : 98.29209702710487\n"
     ]
    },
    {
     "ename": "KeyboardInterrupt",
     "evalue": "",
     "output_type": "error",
     "traceback": [
      "\u001b[0;31m---------------------------------------------------------------------------\u001b[0m",
      "\u001b[0;31mKeyboardInterrupt\u001b[0m                         Traceback (most recent call last)",
      "\u001b[0;32m<ipython-input-9-d8782d583c97>\u001b[0m in \u001b[0;36m<module>\u001b[0;34m()\u001b[0m\n\u001b[1;32m      4\u001b[0m \u001b[0mi1\u001b[0m \u001b[1;33m=\u001b[0m \u001b[0mtime\u001b[0m\u001b[1;33m.\u001b[0m\u001b[0mclock\u001b[0m\u001b[1;33m(\u001b[0m\u001b[1;33m)\u001b[0m\u001b[1;33m\u001b[0m\u001b[0m\n\u001b[1;32m      5\u001b[0m \u001b[0mprint\u001b[0m\u001b[1;33m(\u001b[0m\u001b[1;34m\"init :\"\u001b[0m\u001b[1;33m,\u001b[0m\u001b[0mi1\u001b[0m \u001b[1;33m-\u001b[0m \u001b[0mstart\u001b[0m\u001b[1;33m)\u001b[0m\u001b[1;33m\u001b[0m\u001b[0m\n\u001b[0;32m----> 6\u001b[0;31m \u001b[0mdataset\u001b[0m\u001b[1;33m.\u001b[0m\u001b[0mresizeAndSegment\u001b[0m\u001b[1;33m(\u001b[0m\u001b[1;33m)\u001b[0m\u001b[1;33m\u001b[0m\u001b[0m\n\u001b[0m\u001b[1;32m      7\u001b[0m \u001b[0mi2\u001b[0m \u001b[1;33m=\u001b[0m \u001b[0mtime\u001b[0m\u001b[1;33m.\u001b[0m\u001b[0mclock\u001b[0m\u001b[1;33m(\u001b[0m\u001b[1;33m)\u001b[0m\u001b[1;33m\u001b[0m\u001b[0m\n\u001b[1;32m      8\u001b[0m \u001b[0mprint\u001b[0m\u001b[1;33m(\u001b[0m\u001b[1;34m\"resize and segment :\"\u001b[0m\u001b[1;33m,\u001b[0m \u001b[0mi2\u001b[0m \u001b[1;33m-\u001b[0m \u001b[0mi1\u001b[0m\u001b[1;33m)\u001b[0m\u001b[1;33m\u001b[0m\u001b[0m\n",
      "\u001b[0;32m<ipython-input-7-6fc3ea83b737>\u001b[0m in \u001b[0;36mresizeAndSegment\u001b[0;34m(self)\u001b[0m\n\u001b[1;32m     44\u001b[0m             \u001b[0mbgdModel\u001b[0m \u001b[1;33m=\u001b[0m \u001b[0mnp\u001b[0m\u001b[1;33m.\u001b[0m\u001b[0mzeros\u001b[0m\u001b[1;33m(\u001b[0m\u001b[1;33m(\u001b[0m\u001b[1;36m1\u001b[0m\u001b[1;33m,\u001b[0m\u001b[1;36m65\u001b[0m\u001b[1;33m)\u001b[0m\u001b[1;33m,\u001b[0m\u001b[0mnp\u001b[0m\u001b[1;33m.\u001b[0m\u001b[0mfloat64\u001b[0m\u001b[1;33m)\u001b[0m\u001b[1;33m\u001b[0m\u001b[0m\n\u001b[1;32m     45\u001b[0m             \u001b[0mfgdModel\u001b[0m \u001b[1;33m=\u001b[0m \u001b[0mnp\u001b[0m\u001b[1;33m.\u001b[0m\u001b[0mzeros\u001b[0m\u001b[1;33m(\u001b[0m\u001b[1;33m(\u001b[0m\u001b[1;36m1\u001b[0m\u001b[1;33m,\u001b[0m\u001b[1;36m65\u001b[0m\u001b[1;33m)\u001b[0m\u001b[1;33m,\u001b[0m\u001b[0mnp\u001b[0m\u001b[1;33m.\u001b[0m\u001b[0mfloat64\u001b[0m\u001b[1;33m)\u001b[0m\u001b[1;33m\u001b[0m\u001b[0m\n\u001b[0;32m---> 46\u001b[0;31m             \u001b[0mmask\u001b[0m\u001b[1;33m,\u001b[0m \u001b[0mbgdModel\u001b[0m\u001b[1;33m,\u001b[0m \u001b[0mfgdModel\u001b[0m \u001b[1;33m=\u001b[0m \u001b[0mcv2\u001b[0m\u001b[1;33m.\u001b[0m\u001b[0mgrabCut\u001b[0m\u001b[1;33m(\u001b[0m\u001b[0mres_img\u001b[0m\u001b[1;33m,\u001b[0m\u001b[1;32mNone\u001b[0m\u001b[1;33m,\u001b[0m\u001b[0mrect\u001b[0m\u001b[1;33m,\u001b[0m\u001b[0mbgdModel\u001b[0m\u001b[1;33m,\u001b[0m\u001b[0mfgdModel\u001b[0m\u001b[1;33m,\u001b[0m\u001b[1;36m5\u001b[0m\u001b[1;33m,\u001b[0m\u001b[0mcv2\u001b[0m\u001b[1;33m.\u001b[0m\u001b[0mGC_INIT_WITH_RECT\u001b[0m\u001b[1;33m)\u001b[0m\u001b[1;33m\u001b[0m\u001b[0m\n\u001b[0m\u001b[1;32m     47\u001b[0m \u001b[1;33m\u001b[0m\u001b[0m\n\u001b[1;32m     48\u001b[0m             \u001b[1;31m# If a pixel is BGD or probably BGD, set it to 0, otherwise, set it to 1\u001b[0m\u001b[1;33m\u001b[0m\u001b[1;33m\u001b[0m\u001b[0m\n",
      "\u001b[0;31mKeyboardInterrupt\u001b[0m: "
     ]
    }
   ],
   "source": [
    "seb_filepath = \"C:/Users/yanng/Documents/Vision/Projet/\"\n",
    "start = time.clock()\n",
    "dataset = csvToCv2(seb_filepath)\n",
    "i1 = time.clock()\n",
    "print(\"init :\",i1 - start)\n",
    "dataset.resizeAndSegment()\n",
    "i2 = time.clock()\n",
    "print(\"resize and segment :\", i2 - i1)\n",
    "dataset.computeFeatures()\n",
    "i3 = time.clock()\n",
    "print(\"resize and segment :\", i3 - i2)\n",
    "dataset.splitData()\n",
    "print(\"Overall :\", time.clock()-start)"
   ]
  },
  {
   "cell_type": "code",
   "execution_count": 6,
   "metadata": {
    "collapsed": false
   },
   "outputs": [
    {
     "name": "stdout",
     "output_type": "stream",
     "text": [
      "SVM accuracy:  66.6666666667\n"
     ]
    }
   ],
   "source": [
    "# Create an sklearn.svm.LinearSVC object\n",
    "svm = LinearSVC()\n",
    "# Train using the training set\n",
    "svm.fit(dataset.Xtrain, dataset.ytrain)\n",
    "# Predict the labels for the validation set\n",
    "ypred = svm.predict(dataset.Xval)\n",
    "# Compute the prediction accuracy (%) using the accuracy_score module of the sklearn.metrics\n",
    "accuracy = accuracy_score(dataset.yval,ypred) * 100\n",
    "print(\"SVM accuracy: \", accuracy) "
   ]
  },
  {
   "cell_type": "code",
   "execution_count": null,
   "metadata": {
    "collapsed": true
   },
   "outputs": [],
   "source": []
  }
 ],
 "metadata": {
  "anaconda-cloud": {},
  "kernelspec": {
   "display_name": "Python [default]",
   "language": "python",
   "name": "python3"
  },
  "language_info": {
   "codemirror_mode": {
    "name": "ipython",
    "version": 3
   },
   "file_extension": ".py",
   "mimetype": "text/x-python",
   "name": "python",
   "nbconvert_exporter": "python",
   "pygments_lexer": "ipython3",
   "version": "3.5.2"
  }
 },
 "nbformat": 4,
 "nbformat_minor": 1
}
