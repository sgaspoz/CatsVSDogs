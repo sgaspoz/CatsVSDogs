{
 "cells": [
  {
   "cell_type": "markdown",
   "metadata": {},
   "source": [
    "# OpenCV High-GUI"
   ]
  },
  {
   "cell_type": "markdown",
   "metadata": {},
   "source": [
    "## User-assisted Segmentation"
   ]
  },
  {
   "cell_type": "markdown",
   "metadata": {},
   "source": [
    "The user specifies a rectangle containing the object"
   ]
  },
  {
   "cell_type": "markdown",
   "metadata": {},
   "source": [
    "Graph cut segmentation is used to find the object inside the rectangle"
   ]
  },
  {
   "cell_type": "code",
   "execution_count": 10,
   "metadata": {
    "collapsed": false
   },
   "outputs": [],
   "source": [
    "import cv2\n",
    "import numpy as np\n",
    "\n",
    "# global variables\n",
    "tl = (0,0)\n",
    "br = (0,0)\n",
    "\n",
    "\n",
    "# Load the image\n",
    "# SAMPLES_DATA_DIR = 'C:/opencv/sources/samples/data/'\n",
    "for i in range(20) :\n",
    "    img_og = cv2.imread(\"C:/Users/Felix Remigereau/Documents/Comp_Vison_Python/Local_final_comp/X_Train/\" + str(i+117) + \".jpg\")\n",
    "    img = cv2.resize(img_og, (240,240))\n",
    "    \n",
    "    rect = (4,4,img.shape[0]-8,img.shape[1]-8)\n",
    "    bgdModel = np.zeros((1,65),np.float64)\n",
    "    fgdModel = np.zeros((1,65),np.float64)\n",
    "    mask, bgdModel, fgdModel = cv2.grabCut(img,None,rect,bgdModel,fgdModel,5,cv2.GC_INIT_WITH_RECT)\n",
    "\n",
    "    # If a pixel is BGD or probably BGD, set it to 0, otherwise, set it to 1\n",
    "    mask = np.where((mask==cv2.GC_BGD)|(mask==cv2.GC_PR_BGD),0,1).astype('uint8')\n",
    "    # newaxis is used to increase the dimension of the existing array by one more dimension\n",
    "    img_disp = img * mask[:,:,np.newaxis]\n",
    "\n",
    "    mean = np.mean(img_disp)\n",
    "    if(mean < 1) : \n",
    "        print(\"ZERO\")\n",
    "    # Display result\n",
    "    cv2.imshow(\"Result\", img_disp);\n",
    "    cv2.waitKey(0)\n",
    "    cv2.destroyAllWindows()"
   ]
  },
  {
   "cell_type": "code",
   "execution_count": null,
   "metadata": {
    "collapsed": true
   },
   "outputs": [],
   "source": []
  }
 ],
 "metadata": {
  "anaconda-cloud": {},
  "kernelspec": {
   "display_name": "Python [default]",
   "language": "python",
   "name": "python3"
  },
  "language_info": {
   "codemirror_mode": {
    "name": "ipython",
    "version": 3
   },
   "file_extension": ".py",
   "mimetype": "text/x-python",
   "name": "python",
   "nbconvert_exporter": "python",
   "pygments_lexer": "ipython3",
   "version": "3.5.2"
  }
 },
 "nbformat": 4,
 "nbformat_minor": 1
}
