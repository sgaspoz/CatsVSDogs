{
 "cells": [
  {
   "cell_type": "markdown",
   "metadata": {},
   "source": [
    "# Cats VS. Dogs\n",
    "## ECSE 415 - Final Project\n",
    "\n",
    "### Felix Remigereau and Sébastien Gaspoz"
   ]
  },
  {
   "cell_type": "code",
   "execution_count": 3,
   "metadata": {
    "collapsed": true
   },
   "outputs": [],
   "source": [
    "import cv2\n",
    "import csv\n",
    "import numpy as np\n",
    "import matplotlib.pyplot as plt\n",
    "from sklearn import cross_validation\n",
    "from sklearn.metrics import accuracy_score\n",
    "from sklearn.svm import LinearSVC\n",
    "from sklearn.ensemble import RandomForestClassifier\n",
    "\n",
    "import time"
   ]
  },
  {
   "cell_type": "code",
   "execution_count": 4,
   "metadata": {
    "collapsed": true
   },
   "outputs": [],
   "source": [
    "class csvToCv2: \n",
    "    def __init__(self, filepath): \n",
    "        data = [] \n",
    "        labels = []\n",
    "        \n",
    "        self.sift = cv2.xfeatures2d.SIFT_create()\n",
    "        self.descs = []\n",
    "        \n",
    "        with open(filepath+'Y_train.csv', 'r') as csv_file:\n",
    "            # read and discard the csv header row (first line)\n",
    "            next(csv_file)\n",
    "            # Read the rest, one line at a time\n",
    "            for line in csv.reader(csv_file):\n",
    "                # The first column contains the image's name\n",
    "                im = cv2.imread(filepath+'X_train/'+str(line[0]))\n",
    "                im = cv2.resize(im, (320, 240))\n",
    "                im.reshape(-1)\n",
    "                data.append(im)\n",
    "                # The last column is the label                \n",
    "                labels.append(int(line[1]))\n",
    "                # The rest of columns are pixels\n",
    "                \n",
    "        self.data = data\n",
    "        self.labels = labels\n",
    "    \n",
    "    def fasterFeatures(self): \n",
    "        feat = []\n",
    "        desc = []\n",
    "        for pic in self.data[:100]: \n",
    "            feature, descriptor = self.sift.detectAndCompute(pic, None)\n",
    "            feat.append(feature)\n",
    "            desc.append(descriptor)\n",
    "            \n",
    "        self.feats = feat\n",
    "        self.descs = desc\n",
    "    \n",
    "    \n",
    "    def computeFeatures(self) :\n",
    "        #feat = []\n",
    "        desc = []\n",
    "        k = 0\n",
    "        for pic in self.data[:100]: \n",
    "            if(k % 20 == 0):\n",
    "                print(\"Doing stuff for picture : \", k)\n",
    "            k += 1\n",
    "            feature, descriptor = self.sift.detectAndCompute(pic, None)\n",
    "            \n",
    "            zi = zip(feature, descriptor) # We want to be able to sort the descriptors based on the keypoints attribute, so we zip them\n",
    "            bestFeats = sorted(zi, key=lambda tup : tup[0].response, reverse = True)[:100]\n",
    "            for pt in bestFeats:\n",
    "                #feat.append(pt[0])\n",
    "                desc.append(pt[1])\n",
    "            #self.feats.append(feat)\n",
    "            self.descs.append(desc)\n",
    "        \n",
    "       \n",
    "    def splitData(self):\n",
    "        # Spliting the training data into training and validation sets\n",
    "        # We'll use the cross_validation from the sklearn module\n",
    "        Xtrain,Xval,ytrain,yval = cross_validation.train_test_split(self.descs,self.labels,test_size=0.1)\n",
    "        # make the data public\n",
    "        self.Xtrain = Xtrain\n",
    "        self.ytrain = ytrain\n",
    "        self.Ntrain = len(Xtrain)\n",
    "        self.Xval = Xval\n",
    "        self.yval = yval\n",
    "        self.Nval = len(Xval)\n",
    "        \n",
    "    # Displays N images for each animal from the training set\n",
    "    def demo(self,N):\n",
    "        # keeps track of the number of plotted images for each digit\n",
    "        nplot = np.zeros(2)\n",
    "        # Go through all images\n",
    "        for n in range(self.Ntrain):        \n",
    "            # get the digit label\n",
    "            digit = self.ytrain[n]\n",
    "            # Check the number of plotted images for the digit\n",
    "            if nplot[digit] < N:\n",
    "                nplot[digit] = nplot[digit] + 1\n",
    "                # read and reshape the digit image\n",
    "                img = self.Xtrain[n]\n",
    "                # compute the subplot id\n",
    "                plotID = N * digit + nplot[digit]\n",
    "                # plot\n",
    "                plt.subplot(2,N,plotID),plt.imshow(img, cmap='gray')\n",
    "                plt.xticks([]), plt.yticks([])\n",
    "                \n",
    "            # break if done\n",
    "            if nplot.min() == N:\n",
    "                break\n",
    "        # Display\n",
    "        plt.show()        "
   ]
  },
  {
   "cell_type": "code",
   "execution_count": 5,
   "metadata": {
    "collapsed": false,
    "scrolled": true
   },
   "outputs": [
    {
     "name": "stdout",
     "output_type": "stream",
     "text": [
      "hey\n",
      "222.52175109603508\n"
     ]
    }
   ],
   "source": [
    "print(\"hey\")\n",
    "start = time.clock()\n",
    "picturesDirectory = \"C:/Users/yanng/Documents/Vision/Projet/\"\n",
    "test = csvToCv2(picturesDirectory)\n",
    "test.fasterFeatures()\n",
    "#test.splitData()\n",
    "finish = time.clock()\n",
    "print(finish - start)"
   ]
  },
  {
   "cell_type": "code",
   "execution_count": null,
   "metadata": {
    "collapsed": false
   },
   "outputs": [],
   "source": [
    "# Create an sklearn.svm.LinearSVC object\n",
    "svm = LinearSVC()\n",
    "# Train using the training set\n",
    "svm.fit(test.Xtrain, test.ytrain)\n",
    "# Predict the labels for the validation set\n",
    "ypred = svm.predict(test.Xval)\n",
    "# Compute the prediction accuracy (%) using the accuracy_score module of the sklearn.metrics\n",
    "accuracy = accuracy_score(test.yval,ypred) * 100\n",
    "print(\"SVM accuracy: \", accuracy) "
   ]
  },
  {
   "cell_type": "code",
   "execution_count": 24,
   "metadata": {
    "collapsed": false
   },
   "outputs": [
    {
     "ename": "MemoryError",
     "evalue": "",
     "output_type": "error",
     "traceback": [
      "\u001b[0;31m---------------------------------------------------------------------------\u001b[0m",
      "\u001b[0;31mMemoryError\u001b[0m                               Traceback (most recent call last)",
      "\u001b[0;32m<ipython-input-24-0baf323a937f>\u001b[0m in \u001b[0;36m<module>\u001b[0;34m()\u001b[0m\n\u001b[1;32m      2\u001b[0m \u001b[0mrandomforest\u001b[0m \u001b[1;33m=\u001b[0m \u001b[0mRandomForestClassifier\u001b[0m\u001b[1;33m(\u001b[0m\u001b[0mn_estimators\u001b[0m\u001b[1;33m=\u001b[0m\u001b[1;36m10\u001b[0m\u001b[1;33m,\u001b[0m \u001b[0mn_jobs\u001b[0m\u001b[1;33m=\u001b[0m\u001b[1;33m-\u001b[0m\u001b[1;36m1\u001b[0m\u001b[1;33m)\u001b[0m\u001b[1;33m\u001b[0m\u001b[0m\n\u001b[1;32m      3\u001b[0m \u001b[1;31m# Train using the training set\u001b[0m\u001b[1;33m\u001b[0m\u001b[1;33m\u001b[0m\u001b[0m\n\u001b[0;32m----> 4\u001b[0;31m \u001b[0mrandomforest\u001b[0m\u001b[1;33m.\u001b[0m\u001b[0mfit\u001b[0m\u001b[1;33m(\u001b[0m\u001b[0mtest\u001b[0m\u001b[1;33m.\u001b[0m\u001b[0mXtrain\u001b[0m\u001b[1;33m,\u001b[0m \u001b[0mtest\u001b[0m\u001b[1;33m.\u001b[0m\u001b[0mytrain\u001b[0m\u001b[1;33m)\u001b[0m\u001b[1;33m\u001b[0m\u001b[0m\n\u001b[0m\u001b[1;32m      5\u001b[0m \u001b[1;31m# Predict the labels for the validation set\u001b[0m\u001b[1;33m\u001b[0m\u001b[1;33m\u001b[0m\u001b[0m\n\u001b[1;32m      6\u001b[0m \u001b[0mypred\u001b[0m \u001b[1;33m=\u001b[0m \u001b[0mrandomforest\u001b[0m\u001b[1;33m.\u001b[0m\u001b[0mpredict\u001b[0m\u001b[1;33m(\u001b[0m\u001b[0mtest\u001b[0m\u001b[1;33m.\u001b[0m\u001b[0mXval\u001b[0m\u001b[1;33m)\u001b[0m\u001b[1;33m\u001b[0m\u001b[0m\n",
      "\u001b[0;32mC:\\Anaconda3\\lib\\site-packages\\sklearn\\ensemble\\forest.py\u001b[0m in \u001b[0;36mfit\u001b[0;34m(self, X, y, sample_weight)\u001b[0m\n\u001b[1;32m    210\u001b[0m         \"\"\"\n\u001b[1;32m    211\u001b[0m         \u001b[1;31m# Validate or convert input data\u001b[0m\u001b[1;33m\u001b[0m\u001b[1;33m\u001b[0m\u001b[0m\n\u001b[0;32m--> 212\u001b[0;31m         \u001b[0mX\u001b[0m \u001b[1;33m=\u001b[0m \u001b[0mcheck_array\u001b[0m\u001b[1;33m(\u001b[0m\u001b[0mX\u001b[0m\u001b[1;33m,\u001b[0m \u001b[0mdtype\u001b[0m\u001b[1;33m=\u001b[0m\u001b[0mDTYPE\u001b[0m\u001b[1;33m,\u001b[0m \u001b[0maccept_sparse\u001b[0m\u001b[1;33m=\u001b[0m\u001b[1;34m\"csc\"\u001b[0m\u001b[1;33m)\u001b[0m\u001b[1;33m\u001b[0m\u001b[0m\n\u001b[0m\u001b[1;32m    213\u001b[0m         \u001b[1;32mif\u001b[0m \u001b[0missparse\u001b[0m\u001b[1;33m(\u001b[0m\u001b[0mX\u001b[0m\u001b[1;33m)\u001b[0m\u001b[1;33m:\u001b[0m\u001b[1;33m\u001b[0m\u001b[0m\n\u001b[1;32m    214\u001b[0m             \u001b[1;31m# Pre-sort indices to avoid that each individual tree of the\u001b[0m\u001b[1;33m\u001b[0m\u001b[1;33m\u001b[0m\u001b[0m\n",
      "\u001b[0;32mC:\\Anaconda3\\lib\\site-packages\\sklearn\\utils\\validation.py\u001b[0m in \u001b[0;36mcheck_array\u001b[0;34m(array, accept_sparse, dtype, order, copy, force_all_finite, ensure_2d, allow_nd, ensure_min_samples, ensure_min_features, warn_on_dtype, estimator)\u001b[0m\n\u001b[1;32m    371\u001b[0m                                       force_all_finite)\n\u001b[1;32m    372\u001b[0m     \u001b[1;32melse\u001b[0m\u001b[1;33m:\u001b[0m\u001b[1;33m\u001b[0m\u001b[0m\n\u001b[0;32m--> 373\u001b[0;31m         \u001b[0marray\u001b[0m \u001b[1;33m=\u001b[0m \u001b[0mnp\u001b[0m\u001b[1;33m.\u001b[0m\u001b[0marray\u001b[0m\u001b[1;33m(\u001b[0m\u001b[0marray\u001b[0m\u001b[1;33m,\u001b[0m \u001b[0mdtype\u001b[0m\u001b[1;33m=\u001b[0m\u001b[0mdtype\u001b[0m\u001b[1;33m,\u001b[0m \u001b[0morder\u001b[0m\u001b[1;33m=\u001b[0m\u001b[0morder\u001b[0m\u001b[1;33m,\u001b[0m \u001b[0mcopy\u001b[0m\u001b[1;33m=\u001b[0m\u001b[0mcopy\u001b[0m\u001b[1;33m)\u001b[0m\u001b[1;33m\u001b[0m\u001b[0m\n\u001b[0m\u001b[1;32m    374\u001b[0m \u001b[1;33m\u001b[0m\u001b[0m\n\u001b[1;32m    375\u001b[0m         \u001b[1;32mif\u001b[0m \u001b[0mensure_2d\u001b[0m\u001b[1;33m:\u001b[0m\u001b[1;33m\u001b[0m\u001b[0m\n",
      "\u001b[0;31mMemoryError\u001b[0m: "
     ]
    }
   ],
   "source": [
    "# Create an sklearn.ensemble.RandomForestClassifier object\n",
    "randomforest = RandomForestClassifier(n_estimators=10, n_jobs=-1)\n",
    "# Train using the training set\n",
    "randomforest.fit(test.Xtrain, test.ytrain)\n",
    "# Predict the labels for the validation set\n",
    "ypred = randomforest.predict(test.Xval)\n",
    "# Compute the prediction accuracy (%) using the accuracy_score module of the sklearn.metrics\n",
    "accuracy = accuracy_score(test.yval,ypred) * 100\n",
    "print(\"random forest accuracy: \", accuracy) "
   ]
  },
  {
   "cell_type": "code",
   "execution_count": null,
   "metadata": {
    "collapsed": false
   },
   "outputs": [],
   "source": [
    "print(len(test.desc)/100) "
   ]
  },
  {
   "cell_type": "code",
   "execution_count": 14,
   "metadata": {
    "collapsed": false
   },
   "outputs": [
    {
     "data": {
      "text/plain": [
       "[]"
      ]
     },
     "execution_count": 14,
     "metadata": {},
     "output_type": "execute_result"
    }
   ],
   "source": [
    "test.descs"
   ]
  },
  {
   "cell_type": "code",
   "execution_count": 19,
   "metadata": {
    "collapsed": false
   },
   "outputs": [],
   "source": [
    "cv2.imshow(\"Datar\", test.data[0])"
   ]
  },
  {
   "cell_type": "code",
   "execution_count": null,
   "metadata": {
    "collapsed": true
   },
   "outputs": [],
   "source": []
  }
 ],
 "metadata": {
  "anaconda-cloud": {},
  "kernelspec": {
   "display_name": "Python [default]",
   "language": "python",
   "name": "python3"
  },
  "language_info": {
   "codemirror_mode": {
    "name": "ipython",
    "version": 3
   },
   "file_extension": ".py",
   "mimetype": "text/x-python",
   "name": "python",
   "nbconvert_exporter": "python",
   "pygments_lexer": "ipython3",
   "version": "3.5.2"
  }
 },
 "nbformat": 4,
 "nbformat_minor": 1
}
